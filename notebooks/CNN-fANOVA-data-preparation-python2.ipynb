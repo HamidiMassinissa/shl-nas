{
 "cells": [
  {
   "cell_type": "code",
   "execution_count": 4,
   "metadata": {},
   "outputs": [],
   "source": [
    "# IMPORTANT: This part requires python 2 kernel\n",
    "\n",
    "import numpy as np\n",
    "\n",
    "# scikit-optimize\n",
    "import skopt\n",
    "\n",
    "import os\n",
    "\n",
    "def objective(params):\n",
    "    pass"
   ]
  },
  {
   "cell_type": "code",
   "execution_count": 5,
   "metadata": {},
   "outputs": [],
   "source": [
    "def prepare_bayesopt_data(bayesOpt_res):\n",
    "    \"\"\"\n",
    "    Synopsis\n",
    "    ========\n",
    "     Mise en forme des données retournées par la procédure d'optimisation\n",
    "     Bayesienne afin d'être exploitées par dans le cadriciel fANOVA.\n",
    "    \n",
    "    Arguments\n",
    "    =========\n",
    "     BayesOpt_res   structure retournée par scikit-optimize\n",
    "     \n",
    "    Returns\n",
    "    =======\n",
    "     X  of shape (num_runs, num_hyperparams) containing in each row the\n",
    "         values of the hyperparameters used in a particular run of the\n",
    "         Bayesian optimization procedure.\n",
    "     y  of shape (num_runs) containing the recognition performance of each\n",
    "         run of the Bayesian optimization procedure with the corresponding\n",
    "         set of hyper-parameters.\n",
    "    \"\"\"\n",
    "    x_iters = bayesOpt_res.x_iters\n",
    "    func_vals = bayesOpt_res.func_vals\n",
    "    \n",
    "    X = np.array([i for i in x_iters])\n",
    "    y = np.array([i for i in func_vals])\n",
    "    \n",
    "    return X, y\n"
   ]
  },
  {
   "cell_type": "code",
   "execution_count": 6,
   "metadata": {},
   "outputs": [],
   "source": [
    "def store(X, y, revision_name):\n",
    "    folder_name = './fANOVA-master'\n",
    "    if not os.path.exists(folder_name):\n",
    "        os.makedirs(folder_name)\n",
    "        \n",
    "    np.savetxt(folder_name + '/X-master-' + revision_name + '.txt', X)\n",
    "    np.savetxt(folder_name + '/y-master-' + revision_name + '.txt', y)"
   ]
  },
  {
   "cell_type": "code",
   "execution_count": null,
   "metadata": {},
   "outputs": [],
   "source": []
  },
  {
   "cell_type": "code",
   "execution_count": null,
   "metadata": {},
   "outputs": [],
   "source": []
  },
  {
   "cell_type": "code",
   "execution_count": 4,
   "metadata": {},
   "outputs": [],
   "source": [
    "revisions = [\n",
    "    # ------------------------------------------------------------- 5.5.3.1\n",
    "    # ------------------------------------------- all positions, all users, all days\n",
    "    (1, 'Bag'),\n",
    "    (1, 'Hand'),\n",
    "    (1, 'Hips'),\n",
    "    (1, 'Torso'),\n",
    "    \n",
    "    # ------------------------------------------------------------- 5.5.3.2\n",
    "    # ------------------------------------------- split users\n",
    "    # ------------------------------------------- user1\n",
    "    (2, 'Bag-User1'),\n",
    "    (2, 'Hand-User1'),\n",
    "    (2, 'Hips-User1'),\n",
    "    (2, 'Torso-User1'),\n",
    "    # ------------------------------------------- user2\n",
    "    (2, 'Bag-User2'),\n",
    "    (2, 'Hand-User2'),\n",
    "    (2, 'Hips-User2'),\n",
    "    (2, 'Torso-User2'),\n",
    "    # ------------------------------------------- user3\n",
    "    (2, 'Bag-User3'),\n",
    "    (2, 'Hand-User3'),\n",
    "    (2, 'Hips-User3'),\n",
    "    (2, 'Torso-User3'),\n",
    "    \n",
    "    # ------------------------------------------------------------- 5.5.3.4\n",
    "    # ------------------------------------------- all users, all days\n",
    "    # ------------------------------------------- 10 folds\n",
    "    (4, 'Bag-10folds'),\n",
    "    (4, 'Hand-10folds'),\n",
    "    (4, 'Hips-10folds'),\n",
    "    # (4, 'Torso-10folds'),\n",
    "    # ------------------------------------------- 5 folds\n",
    "    (4, 'Bag-5folds'),\n",
    "    (4, 'Hand-5folds'),\n",
    "    (4, 'Hips-5folds'),\n",
    "    (4, 'Torso-5folds'),\n",
    "    # ------------------------------------------- split users\n",
    "    # ------------------------------------------- user1\n",
    "    (4, 'Bag-User1'),\n",
    "    (4, 'Hand-User1'),\n",
    "    (4, 'Hips-User1'),\n",
    "    (4, 'Torso-User1'),\n",
    "    # ------------------------------------------- user2\n",
    "    (4, 'Bag-User2'),\n",
    "    (4, 'Hand-User2'),\n",
    "    (4, 'Hips-User2'),\n",
    "    (4, 'Torso-User2'),\n",
    "    # ------------------------------------------- user3\n",
    "    (4, 'Bag-User3'),\n",
    "    (4, 'Hand-User3'),\n",
    "    (4, 'Hips-User3'),\n",
    "    (4, 'Torso-User3'),\n",
    "]"
   ]
  },
  {
   "cell_type": "code",
   "execution_count": null,
   "metadata": {},
   "outputs": [],
   "source": []
  },
  {
   "cell_type": "code",
   "execution_count": null,
   "metadata": {},
   "outputs": [],
   "source": []
  },
  {
   "cell_type": "markdown",
   "metadata": {},
   "source": [
    "# Prepare data from several Bayesian optimization results"
   ]
  },
  {
   "cell_type": "code",
   "execution_count": 13,
   "metadata": {},
   "outputs": [],
   "source": [
    "def aggregate_bayesopt_results(revisions, num_hyperparams):\n",
    "    \"\"\"\n",
    "    Synopsis\n",
    "    ========\n",
    "    \n",
    "    Arguments\n",
    "    =========\n",
    "     revisions\n",
    "     num_hyperparams\n",
    "    \n",
    "    Returns\n",
    "    =======\n",
    "     X\n",
    "     y\n",
    "    \"\"\"\n",
    "    X = np.empty((0, num_hyperparams))\n",
    "    y = np.array([])\n",
    "    for revision, title in revisions:\n",
    "        r = skopt.load('./notebooks-master/generated/5.5/bayesOptResults.5.5.3.' + str(revision) + '-' + title + '.sav')\n",
    "        x_, y_ = prepare_bayesopt_data(r)\n",
    "        X = np.concatenate([X, x_], axis=0)\n",
    "        y = np.concatenate([y, y_])\n",
    "    \n",
    "    print(X.shape)\n",
    "    print(y.shape)\n",
    "    \n",
    "    return X, y"
   ]
  },
  {
   "cell_type": "code",
   "execution_count": null,
   "metadata": {},
   "outputs": [],
   "source": []
  },
  {
   "cell_type": "code",
   "execution_count": 6,
   "metadata": {},
   "outputs": [
    {
     "name": "stdout",
     "output_type": "stream",
     "text": [
      "(480, 26)\n",
      "(480,)\n"
     ]
    }
   ],
   "source": [
    "# Hyper-parameters interaction in the context of data generated by User1 (all positions)\n",
    "revisions = [  # (all experiments of all branches)\n",
    "    (2, 'Bag-User1'),\n",
    "    (4, 'Bag-User1'),\n",
    "    (2, 'Hand-User1'),\n",
    "    (4, 'Hand-User1'),\n",
    "    (2, 'Hips-User1'),\n",
    "    (4, 'Hips-User1'),\n",
    "    (2, 'Torso-User1'),\n",
    "    (4, 'Torso-User1'),\n",
    "]\n",
    "num_hyperparams = 26\n",
    "X, y = aggregate_bayesopt_results(revisions, num_hyperparams)\n",
    "store(X, y, 'user1-allPositions-allExperimentsAndBranches')"
   ]
  },
  {
   "cell_type": "code",
   "execution_count": null,
   "metadata": {},
   "outputs": [],
   "source": []
  },
  {
   "cell_type": "code",
   "execution_count": 7,
   "metadata": {},
   "outputs": [
    {
     "name": "stdout",
     "output_type": "stream",
     "text": [
      "(480, 26)\n",
      "(480,)\n"
     ]
    }
   ],
   "source": [
    "# Hyper-parameters interaction in the context of data generated by User2 (all positions)\n",
    "revisions = [\n",
    "    (2, 'Bag-User2'),\n",
    "    (4, 'Bag-User2'),\n",
    "    (2, 'Hand-User2'),\n",
    "    (4, 'Hand-User2'),\n",
    "    (2, 'Hips-User2'),\n",
    "    (4, 'Hips-User2'),\n",
    "    (2, 'Torso-User2'),\n",
    "    (4, 'Torso-User2'),\n",
    "]\n",
    "num_hyperparams = 26\n",
    "X, y = aggregate_bayesopt_results(revisions, num_hyperparams)\n",
    "store(X, y, 'user2-allPositions-allExperimentsAndBranches')"
   ]
  },
  {
   "cell_type": "code",
   "execution_count": null,
   "metadata": {},
   "outputs": [],
   "source": []
  },
  {
   "cell_type": "code",
   "execution_count": 8,
   "metadata": {},
   "outputs": [
    {
     "name": "stdout",
     "output_type": "stream",
     "text": [
      "(480, 26)\n",
      "(480,)\n"
     ]
    }
   ],
   "source": [
    "# Hyper-parameters interaction in the context of data generated by User3 (all positions)\n",
    "revisions = [\n",
    "    (2, 'Bag-User3'),\n",
    "    (4, 'Bag-User3'),\n",
    "    (2, 'Hand-User3'),\n",
    "    (4, 'Hand-User3'),\n",
    "    (2, 'Hips-User3'),\n",
    "    (4, 'Hips-User3'),\n",
    "    (2, 'Torso-User3'),\n",
    "    (4, 'Torso-User3'),\n",
    "]\n",
    "num_hyperparams = 26\n",
    "X, y = aggregate_bayesopt_results(revisions, num_hyperparams)\n",
    "store(X, y, 'user3-allPositions-allExperimentsAndBranches')"
   ]
  },
  {
   "cell_type": "code",
   "execution_count": null,
   "metadata": {},
   "outputs": [],
   "source": []
  },
  {
   "cell_type": "code",
   "execution_count": 9,
   "metadata": {},
   "outputs": [
    {
     "name": "stdout",
     "output_type": "stream",
     "text": [
      "(420, 26)\n",
      "(420,)\n"
     ]
    }
   ],
   "source": [
    "# Hyper-parameters interaction in the context of data generated by Bag generator (all users)\n",
    "revisions = [\n",
    "    (1, 'Bag'),\n",
    "        \n",
    "    (2, 'Bag-User1'),\n",
    "    (2, 'Bag-User2'),\n",
    "    (2, 'Bag-User3'),\n",
    "        \n",
    "    (4, 'Bag-User1'),\n",
    "    (4, 'Bag-User2'),\n",
    "    (4, 'Bag-User3'),\n",
    "]\n",
    "num_hyperparams = 26\n",
    "X, y = aggregate_bayesopt_results(revisions, num_hyperparams)\n",
    "store(X, y, 'Bag-allUsers-allExperimentsAndBranches')"
   ]
  },
  {
   "cell_type": "code",
   "execution_count": null,
   "metadata": {},
   "outputs": [],
   "source": []
  },
  {
   "cell_type": "code",
   "execution_count": 10,
   "metadata": {},
   "outputs": [
    {
     "name": "stdout",
     "output_type": "stream",
     "text": [
      "(420, 26)\n",
      "(420,)\n"
     ]
    }
   ],
   "source": [
    "# Hyper-parameters interaction in the context of data generated by Hand generator (all users)\n",
    "revisions = [\n",
    "    (1, 'Hand'),\n",
    "        \n",
    "    (2, 'Hand-User1'),\n",
    "    (2, 'Hand-User2'),\n",
    "    (2, 'Hand-User3'),\n",
    "\n",
    "    (4, 'Hand-User1'),\n",
    "    (4, 'Hand-User2'),\n",
    "    (4, 'Hand-User3'),\n",
    "]\n",
    "num_hyperparams = 26\n",
    "X, y = aggregate_bayesopt_results(revisions, num_hyperparams)\n",
    "store(X, y, 'Hand-allUsers-allExperimentsAndBranches')"
   ]
  },
  {
   "cell_type": "code",
   "execution_count": null,
   "metadata": {},
   "outputs": [],
   "source": []
  },
  {
   "cell_type": "code",
   "execution_count": 11,
   "metadata": {},
   "outputs": [
    {
     "name": "stdout",
     "output_type": "stream",
     "text": [
      "(420, 26)\n",
      "(420,)\n"
     ]
    }
   ],
   "source": [
    "# Hyper-parameters interaction in the context of data generated by Hips generator (all users)\n",
    "revisions = [\n",
    "    (1, 'Hips'),\n",
    "        \n",
    "    (2, 'Hips-User1'),\n",
    "    (2, 'Hips-User2'),\n",
    "    (2, 'Hips-User3'),\n",
    "        \n",
    "    (4, 'Hips-User1'),\n",
    "    (4, 'Hips-User2'),\n",
    "    (4, 'Hips-User3'),\n",
    "]\n",
    "num_hyperparams = 26\n",
    "X, y = aggregate_bayesopt_results(revisions, num_hyperparams)\n",
    "store(X, y, 'Hips-allUsers-allExperimentsAndBranches')"
   ]
  },
  {
   "cell_type": "code",
   "execution_count": null,
   "metadata": {},
   "outputs": [],
   "source": []
  },
  {
   "cell_type": "code",
   "execution_count": 12,
   "metadata": {},
   "outputs": [
    {
     "name": "stdout",
     "output_type": "stream",
     "text": [
      "(420, 26)\n",
      "(420,)\n"
     ]
    }
   ],
   "source": [
    "# Hyper-parameters interaction in the context of data generated by Torso generator (all users)\n",
    "revisions = [\n",
    "    (1, 'Torso'),\n",
    "        \n",
    "    (2, 'Torso-User1'),\n",
    "    (2, 'Torso-User2'),\n",
    "    (2, 'Torso-User3'),\n",
    "        \n",
    "    (4, 'Torso-User1'),\n",
    "    (4, 'Torso-User2'),\n",
    "    (4, 'Torso-User3'),\n",
    "]\n",
    "num_hyperparams = 26\n",
    "X, y = aggregate_bayesopt_results(revisions, num_hyperparams)\n",
    "store(X, y, 'Torso-allUsers-allExperimentsAndBranches')"
   ]
  },
  {
   "cell_type": "code",
   "execution_count": null,
   "metadata": {},
   "outputs": [],
   "source": []
  },
  {
   "cell_type": "code",
   "execution_count": 13,
   "metadata": {},
   "outputs": [
    {
     "name": "stdout",
     "output_type": "stream",
     "text": [
      "(2100, 26)\n",
      "(2100,)\n"
     ]
    }
   ],
   "source": [
    "# Hyper-parameters interaction all-in-all (allExperimentsAndBranches)\n",
    "revisions = [\n",
    "    # ------------------------------------------------------------- 5.5.3.1\n",
    "    # ------------------------------------------- all positions, all users, all days\n",
    "    (1, 'Bag'),\n",
    "    (1, 'Hand'),\n",
    "    (1, 'Hips'),\n",
    "    (1, 'Torso'),\n",
    "    \n",
    "    # ------------------------------------------------------------- 5.5.3.2\n",
    "    # ------------------------------------------- split users\n",
    "    # ------------------------------------------- user1\n",
    "    (2, 'Bag-User1'),\n",
    "    (2, 'Hand-User1'),\n",
    "    (2, 'Hips-User1'),\n",
    "    (2, 'Torso-User1'),\n",
    "    # ------------------------------------------- user2\n",
    "    (2, 'Bag-User2'),\n",
    "    (2, 'Hand-User2'),\n",
    "    (2, 'Hips-User2'),\n",
    "    (2, 'Torso-User2'),\n",
    "    # ------------------------------------------- user3\n",
    "    (2, 'Bag-User3'),\n",
    "    (2, 'Hand-User3'),\n",
    "    (2, 'Hips-User3'),\n",
    "    (2, 'Torso-User3'),\n",
    "    \n",
    "    # ------------------------------------------------------------- 5.5.3.4\n",
    "    # ------------------------------------------- all users, all days\n",
    "    # ------------------------------------------- 10 folds\n",
    "    (4, 'Bag-10folds'),\n",
    "    (4, 'Hand-10folds'),\n",
    "    (4, 'Hips-10folds'),\n",
    "    # (4, 'Torso-10folds'),\n",
    "    # ------------------------------------------- 5 folds\n",
    "    (4, 'Bag-5folds'),\n",
    "    (4, 'Hand-5folds'),\n",
    "    (4, 'Hips-5folds'),\n",
    "    (4, 'Torso-5folds'),\n",
    "    # ------------------------------------------- split users\n",
    "    # ------------------------------------------- user1\n",
    "    (4, 'Bag-User1'),\n",
    "    (4, 'Hand-User1'),\n",
    "    (4, 'Hips-User1'),\n",
    "    (4, 'Torso-User1'),\n",
    "    # ------------------------------------------- user2\n",
    "    (4, 'Bag-User2'),\n",
    "    (4, 'Hand-User2'),\n",
    "    (4, 'Hips-User2'),\n",
    "    (4, 'Torso-User2'),\n",
    "    # ------------------------------------------- user3\n",
    "    (4, 'Bag-User3'),\n",
    "    (4, 'Hand-User3'),\n",
    "    (4, 'Hips-User3'),\n",
    "    (4, 'Torso-User3'),\n",
    "]\n",
    "num_hyperparams = 26\n",
    "X, y = aggregate_bayesopt_results(revisions, num_hyperparams)\n",
    "store(X, y, 'all-in-all-allExperimentsAndBranches')"
   ]
  },
  {
   "cell_type": "code",
   "execution_count": 14,
   "metadata": {},
   "outputs": [
    {
     "ename": "IOError",
     "evalue": "[Errno 2] No such file or directory: 'notebooks-master/generated/5.5/bayesOptResults.5.5.3.10-10-folds.sav'",
     "output_type": "error",
     "traceback": [
      "\u001b[0;31m---------------------------------------------------------------------------\u001b[0m",
      "\u001b[0;31mIOError\u001b[0m                                   Traceback (most recent call last)",
      "\u001b[0;32m<ipython-input-14-b6dac6caac6f>\u001b[0m in \u001b[0;36m<module>\u001b[0;34m()\u001b[0m\n\u001b[1;32m      4\u001b[0m ]\n\u001b[1;32m      5\u001b[0m \u001b[0mnum_hyperparams\u001b[0m \u001b[0;34m=\u001b[0m \u001b[0;36m26\u001b[0m\u001b[0;34m\u001b[0m\u001b[0m\n\u001b[0;32m----> 6\u001b[0;31m \u001b[0mX\u001b[0m\u001b[0;34m,\u001b[0m \u001b[0my\u001b[0m \u001b[0;34m=\u001b[0m \u001b[0maggregate_bayesopt_results\u001b[0m\u001b[0;34m(\u001b[0m\u001b[0mrevisions\u001b[0m\u001b[0;34m,\u001b[0m \u001b[0mnum_hyperparams\u001b[0m\u001b[0;34m)\u001b[0m\u001b[0;34m\u001b[0m\u001b[0m\n\u001b[0m\u001b[1;32m      7\u001b[0m \u001b[0mstore\u001b[0m\u001b[0;34m(\u001b[0m\u001b[0mX\u001b[0m\u001b[0;34m,\u001b[0m \u001b[0my\u001b[0m\u001b[0;34m,\u001b[0m \u001b[0;34m'all-data-generators-fused'\u001b[0m\u001b[0;34m)\u001b[0m\u001b[0;34m\u001b[0m\u001b[0m\n",
      "\u001b[0;32m<ipython-input-13-d76787626389>\u001b[0m in \u001b[0;36maggregate_bayesopt_results\u001b[0;34m(revisions, num_hyperparams)\u001b[0m\n\u001b[1;32m     17\u001b[0m     \u001b[0my\u001b[0m \u001b[0;34m=\u001b[0m \u001b[0mnp\u001b[0m\u001b[0;34m.\u001b[0m\u001b[0marray\u001b[0m\u001b[0;34m(\u001b[0m\u001b[0;34m[\u001b[0m\u001b[0;34m]\u001b[0m\u001b[0;34m)\u001b[0m\u001b[0;34m\u001b[0m\u001b[0m\n\u001b[1;32m     18\u001b[0m     \u001b[0;32mfor\u001b[0m \u001b[0mrevision\u001b[0m\u001b[0;34m,\u001b[0m \u001b[0mtitle\u001b[0m \u001b[0;32min\u001b[0m \u001b[0mrevisions\u001b[0m\u001b[0;34m:\u001b[0m\u001b[0;34m\u001b[0m\u001b[0m\n\u001b[0;32m---> 19\u001b[0;31m         \u001b[0mr\u001b[0m \u001b[0;34m=\u001b[0m \u001b[0mskopt\u001b[0m\u001b[0;34m.\u001b[0m\u001b[0mload\u001b[0m\u001b[0;34m(\u001b[0m\u001b[0;34m'notebooks-master/generated/5.5/bayesOptResults.5.5.3.'\u001b[0m \u001b[0;34m+\u001b[0m \u001b[0mstr\u001b[0m\u001b[0;34m(\u001b[0m\u001b[0mrevision\u001b[0m\u001b[0;34m)\u001b[0m \u001b[0;34m+\u001b[0m \u001b[0;34m'-'\u001b[0m \u001b[0;34m+\u001b[0m \u001b[0mtitle\u001b[0m \u001b[0;34m+\u001b[0m \u001b[0;34m'.sav'\u001b[0m\u001b[0;34m)\u001b[0m\u001b[0;34m\u001b[0m\u001b[0m\n\u001b[0m\u001b[1;32m     20\u001b[0m         \u001b[0mx_\u001b[0m\u001b[0;34m,\u001b[0m \u001b[0my_\u001b[0m \u001b[0;34m=\u001b[0m \u001b[0mprepare_bayesopt_data\u001b[0m\u001b[0;34m(\u001b[0m\u001b[0mr\u001b[0m\u001b[0;34m)\u001b[0m\u001b[0;34m\u001b[0m\u001b[0m\n\u001b[1;32m     21\u001b[0m         \u001b[0mX\u001b[0m \u001b[0;34m=\u001b[0m \u001b[0mnp\u001b[0m\u001b[0;34m.\u001b[0m\u001b[0mconcatenate\u001b[0m\u001b[0;34m(\u001b[0m\u001b[0;34m[\u001b[0m\u001b[0mX\u001b[0m\u001b[0;34m,\u001b[0m \u001b[0mx_\u001b[0m\u001b[0;34m]\u001b[0m\u001b[0;34m,\u001b[0m \u001b[0maxis\u001b[0m\u001b[0;34m=\u001b[0m\u001b[0;36m0\u001b[0m\u001b[0;34m)\u001b[0m\u001b[0;34m\u001b[0m\u001b[0m\n",
      "\u001b[0;32m/home/hamidi/current-work/shl-experiments/env/local/lib/python2.7/site-packages/skopt/utils.pyc\u001b[0m in \u001b[0;36mload\u001b[0;34m(filename, **kwargs)\u001b[0m\n\u001b[1;32m    170\u001b[0m         \u001b[0mReconstructed\u001b[0m \u001b[0mOptimizeResult\u001b[0m \u001b[0minstance\u001b[0m\u001b[0;34m.\u001b[0m\u001b[0;34m\u001b[0m\u001b[0m\n\u001b[1;32m    171\u001b[0m     \"\"\"\n\u001b[0;32m--> 172\u001b[0;31m     \u001b[0;32mreturn\u001b[0m \u001b[0mload_\u001b[0m\u001b[0;34m(\u001b[0m\u001b[0mfilename\u001b[0m\u001b[0;34m,\u001b[0m \u001b[0;34m**\u001b[0m\u001b[0mkwargs\u001b[0m\u001b[0;34m)\u001b[0m\u001b[0;34m\u001b[0m\u001b[0m\n\u001b[0m\u001b[1;32m    173\u001b[0m \u001b[0;34m\u001b[0m\u001b[0m\n\u001b[1;32m    174\u001b[0m \u001b[0;34m\u001b[0m\u001b[0m\n",
      "\u001b[0;32m/home/hamidi/current-work/shl-experiments/env/local/lib/python2.7/site-packages/sklearn/externals/joblib/numpy_pickle.pyc\u001b[0m in \u001b[0;36mload\u001b[0;34m(filename, mmap_mode)\u001b[0m\n\u001b[1;32m    588\u001b[0m             \u001b[0mobj\u001b[0m \u001b[0;34m=\u001b[0m \u001b[0m_unpickle\u001b[0m\u001b[0;34m(\u001b[0m\u001b[0mfobj\u001b[0m\u001b[0;34m)\u001b[0m\u001b[0;34m\u001b[0m\u001b[0m\n\u001b[1;32m    589\u001b[0m     \u001b[0;32melse\u001b[0m\u001b[0;34m:\u001b[0m\u001b[0;34m\u001b[0m\u001b[0m\n\u001b[0;32m--> 590\u001b[0;31m         \u001b[0;32mwith\u001b[0m \u001b[0mopen\u001b[0m\u001b[0;34m(\u001b[0m\u001b[0mfilename\u001b[0m\u001b[0;34m,\u001b[0m \u001b[0;34m'rb'\u001b[0m\u001b[0;34m)\u001b[0m \u001b[0;32mas\u001b[0m \u001b[0mf\u001b[0m\u001b[0;34m:\u001b[0m\u001b[0;34m\u001b[0m\u001b[0m\n\u001b[0m\u001b[1;32m    591\u001b[0m             \u001b[0;32mwith\u001b[0m \u001b[0m_read_fileobject\u001b[0m\u001b[0;34m(\u001b[0m\u001b[0mf\u001b[0m\u001b[0;34m,\u001b[0m \u001b[0mfilename\u001b[0m\u001b[0;34m,\u001b[0m \u001b[0mmmap_mode\u001b[0m\u001b[0;34m)\u001b[0m \u001b[0;32mas\u001b[0m \u001b[0mfobj\u001b[0m\u001b[0;34m:\u001b[0m\u001b[0;34m\u001b[0m\u001b[0m\n\u001b[1;32m    592\u001b[0m                 \u001b[0;32mif\u001b[0m \u001b[0misinstance\u001b[0m\u001b[0;34m(\u001b[0m\u001b[0mfobj\u001b[0m\u001b[0;34m,\u001b[0m \u001b[0m_basestring\u001b[0m\u001b[0;34m)\u001b[0m\u001b[0;34m:\u001b[0m\u001b[0;34m\u001b[0m\u001b[0m\n",
      "\u001b[0;31mIOError\u001b[0m: [Errno 2] No such file or directory: 'notebooks-master/generated/5.5/bayesOptResults.5.5.3.10-10-folds.sav'"
     ]
    }
   ],
   "source": [
    "# Bayesian optimization results for all-data-sources-fused-together\n",
    "revisions = [\n",
    "    (10, '10-folds')\n",
    "]\n",
    "num_hyperparams = 26\n",
    "X, y = aggregate_bayesopt_results(revisions, num_hyperparams)\n",
    "store(X, y, 'all-data-generators-fused')"
   ]
  },
  {
   "cell_type": "code",
   "execution_count": null,
   "metadata": {},
   "outputs": [],
   "source": []
  }
 ],
 "metadata": {
  "kernelspec": {
   "display_name": "Python 2",
   "language": "python",
   "name": "python2"
  },
  "language_info": {
   "codemirror_mode": {
    "name": "ipython",
    "version": 2
   },
   "file_extension": ".py",
   "mimetype": "text/x-python",
   "name": "python",
   "nbconvert_exporter": "python",
   "pygments_lexer": "ipython2",
   "version": "2.7.15rc1"
  }
 },
 "nbformat": 4,
 "nbformat_minor": 2
}
